{
 "cells": [
  {
   "cell_type": "code",
   "execution_count": 1,
   "metadata": {},
   "outputs": [],
   "source": [
    "%matplotlib notebook\n",
    "import warnings\n",
    "warnings.filterwarnings('ignore')\n",
    "from demo.datasets import *\n",
    "from demo.deep_learning import *\n",
    "from demo.plotting import *\n",
    "from models.multitime_avg import Multitime_Average as UNet"
   ]
  },
  {
   "cell_type": "code",
   "execution_count": null,
   "metadata": {},
   "outputs": [],
   "source": [
    "# Select bands and channels and crop-size\n",
    "setup = {\n",
    "    'input_bands':['B02', 'B03', 'B04', 'B08', 'B05', 'B06', 'B07', 'B8A', 'B11', 'B12'],\n",
    "    'label': 'vegetation_height', #  either 'vegetation_height' or 'fractional_forest_cover'\n",
    "    'xy_coord': [0, 5000], #Upper left corner of excerpt\n",
    "    'size': [512, 512], #max 10980, 10980\n",
    "    'net_type':'7_classes' #2_classes, 7_classes, tree_height, forest_cover,\n",
    "}\n",
    "\n",
    "rgb_bands =  ['B04', 'B03', 'B02']"
   ]
  },
  {
   "cell_type": "code",
   "execution_count": null,
   "metadata": {},
   "outputs": [],
   "source": [
    "# Select tile and crop\n",
    "tiles = load_tiles(4, 'test')# [\"test\", \"train\", \"val\",\"T37LCK\", \"T37LDK\", \"T37LDJ\",\"T37LCJ\"]"
   ]
  },
  {
   "cell_type": "code",
   "execution_count": null,
   "metadata": {},
   "outputs": [],
   "source": [
    "# Plot one tile\n",
    "plot_data_for_tile(tiles[0], rgb_bands, setup)"
   ]
  },
  {
   "cell_type": "code",
   "execution_count": null,
   "metadata": {
    "collapsed": false
   },
   "outputs": [],
   "source": [
    "# Plot multiple tiles\n",
    "plot_data_for_multiple_times(tiles, rgb_bands, setup)"
   ]
  },
  {
   "cell_type": "code",
   "execution_count": null,
   "metadata": {
    "collapsed": false
   },
   "outputs": [],
   "source": [
    "# Load network\n",
    "net = load_pretrained_net(setup)\n",
    "# Do computations on GPU\n",
    "net = net.cuda()\n",
    "net.fow = [512,512] #Reduce if GPU runs out of memory"
   ]
  },
  {
   "cell_type": "code",
   "execution_count": null,
   "metadata": {},
   "outputs": [],
   "source": [
    "#Apply network to tiles\n",
    "predictions                 = apply_net_to_tiles(net, tiles, setup)\n",
    "predictions_multi_temporal  = apply_net_to_tiles_AVERAGE(net, tiles, setup)"
   ]
  },
  {
   "cell_type": "code",
   "execution_count": null,
   "metadata": {},
   "outputs": [],
   "source": [
    "#Plot results tile 1\n",
    "plot_predicitions(tiles[0], predictions[0], setup)"
   ]
  },
  {
   "cell_type": "code",
   "execution_count": null,
   "metadata": {},
   "outputs": [],
   "source": [
    "#Plot results tile 2\n",
    "plot_predicitions(tiles[1], predictions[1], setup)"
   ]
  },
  {
   "cell_type": "code",
   "execution_count": null,
   "metadata": {},
   "outputs": [],
   "source": [
    "#Plot results for tile 3\n",
    "plot_predicitions(tiles[2], predictions[2], setup)"
   ]
  },
  {
   "cell_type": "code",
   "execution_count": null,
   "metadata": {},
   "outputs": [],
   "source": [
    "#Plot results for tile 4\n",
    "plot_predicitions(tiles[3], predictions[3], setup)"
   ]
  },
  {
   "cell_type": "code",
   "execution_count": null,
   "metadata": {},
   "outputs": [],
   "source": [
    "#Confusion plot for single tile\n",
    "plot_predicitions(tiles[1], predictions[1], setup)"
   ]
  },
  {
   "cell_type": "code",
   "execution_count": null,
   "metadata": {},
   "outputs": [],
   "source": [
    "#Use averaging over multiple times\n",
    "scatter_confusion_plot(tiles[0], predictions[0], setup)"
   ]
  },
  {
   "cell_type": "code",
   "execution_count": null,
   "metadata": {},
   "outputs": [],
   "source": [
    "#Use averaging over multiple times\n",
    "scatter_confusion_plot(tiles[0], predictions_multi_temporal, setup)"
   ]
  }
 ],
 "metadata": {
  "kernelspec": {
   "display_name": "Python 3",
   "language": "python",
   "name": "python3"
  },
  "language_info": {
   "codemirror_mode": {
    "name": "ipython",
    "version": 3
   },
   "file_extension": ".py",
   "mimetype": "text/x-python",
   "name": "python",
   "nbconvert_exporter": "python",
   "pygments_lexer": "ipython3",
   "version": "3.5.2"
  }
 },
 "nbformat": 4,
 "nbformat_minor": 2
}
